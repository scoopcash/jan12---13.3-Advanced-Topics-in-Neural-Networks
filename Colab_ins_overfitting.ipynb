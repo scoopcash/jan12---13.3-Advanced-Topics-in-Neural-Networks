{
  "cells": [
    {
      "cell_type": "markdown",
      "metadata": {
        "id": "view-in-github",
        "colab_type": "text"
      },
      "source": [
        "<a href=\"https://colab.research.google.com/github/scoopcash/jan12---13.3-Advanced-Topics-in-Neural-Networks/blob/main/Colab_ins_overfitting.ipynb\" target=\"_parent\"><img src=\"https://colab.research.google.com/assets/colab-badge.svg\" alt=\"Open In Colab\"/></a>"
      ]
    },
    {
      "cell_type": "markdown",
      "id": "4104bbc9",
      "metadata": {
        "id": "4104bbc9"
      },
      "source": [
        "# Overfitting"
      ]
    },
    {
      "cell_type": "code",
      "execution_count": 1,
      "id": "038c919a",
      "metadata": {
        "id": "038c919a"
      },
      "outputs": [],
      "source": [
        "import pandas as pd\n",
        "import numpy as np"
      ]
    },
    {
      "cell_type": "code",
      "execution_count": 2,
      "id": "292c574b",
      "metadata": {
        "id": "292c574b"
      },
      "outputs": [],
      "source": [
        "from keras.models import Sequential\n",
        "from keras.layers import Dense, Activation"
      ]
    },
    {
      "cell_type": "code",
      "execution_count": 4,
      "id": "53dfe549",
      "metadata": {
        "colab": {
          "base_uri": "https://localhost:8080/",
          "height": 74
        },
        "id": "53dfe549",
        "outputId": "c23ddbbb-2df3-4c7b-da74-72cbbcedc416"
      },
      "outputs": [
        {
          "output_type": "display_data",
          "data": {
            "text/plain": [
              "<IPython.core.display.HTML object>"
            ],
            "text/html": [
              "\n",
              "     <input type=\"file\" id=\"files-a5292f3f-2185-4099-95cb-520cd57e7ab9\" name=\"files[]\" multiple disabled\n",
              "        style=\"border:none\" />\n",
              "     <output id=\"result-a5292f3f-2185-4099-95cb-520cd57e7ab9\">\n",
              "      Upload widget is only available when the cell has been executed in the\n",
              "      current browser session. Please rerun this cell to enable.\n",
              "      </output>\n",
              "      <script>// Copyright 2017 Google LLC\n",
              "//\n",
              "// Licensed under the Apache License, Version 2.0 (the \"License\");\n",
              "// you may not use this file except in compliance with the License.\n",
              "// You may obtain a copy of the License at\n",
              "//\n",
              "//      http://www.apache.org/licenses/LICENSE-2.0\n",
              "//\n",
              "// Unless required by applicable law or agreed to in writing, software\n",
              "// distributed under the License is distributed on an \"AS IS\" BASIS,\n",
              "// WITHOUT WARRANTIES OR CONDITIONS OF ANY KIND, either express or implied.\n",
              "// See the License for the specific language governing permissions and\n",
              "// limitations under the License.\n",
              "\n",
              "/**\n",
              " * @fileoverview Helpers for google.colab Python module.\n",
              " */\n",
              "(function(scope) {\n",
              "function span(text, styleAttributes = {}) {\n",
              "  const element = document.createElement('span');\n",
              "  element.textContent = text;\n",
              "  for (const key of Object.keys(styleAttributes)) {\n",
              "    element.style[key] = styleAttributes[key];\n",
              "  }\n",
              "  return element;\n",
              "}\n",
              "\n",
              "// Max number of bytes which will be uploaded at a time.\n",
              "const MAX_PAYLOAD_SIZE = 100 * 1024;\n",
              "\n",
              "function _uploadFiles(inputId, outputId) {\n",
              "  const steps = uploadFilesStep(inputId, outputId);\n",
              "  const outputElement = document.getElementById(outputId);\n",
              "  // Cache steps on the outputElement to make it available for the next call\n",
              "  // to uploadFilesContinue from Python.\n",
              "  outputElement.steps = steps;\n",
              "\n",
              "  return _uploadFilesContinue(outputId);\n",
              "}\n",
              "\n",
              "// This is roughly an async generator (not supported in the browser yet),\n",
              "// where there are multiple asynchronous steps and the Python side is going\n",
              "// to poll for completion of each step.\n",
              "// This uses a Promise to block the python side on completion of each step,\n",
              "// then passes the result of the previous step as the input to the next step.\n",
              "function _uploadFilesContinue(outputId) {\n",
              "  const outputElement = document.getElementById(outputId);\n",
              "  const steps = outputElement.steps;\n",
              "\n",
              "  const next = steps.next(outputElement.lastPromiseValue);\n",
              "  return Promise.resolve(next.value.promise).then((value) => {\n",
              "    // Cache the last promise value to make it available to the next\n",
              "    // step of the generator.\n",
              "    outputElement.lastPromiseValue = value;\n",
              "    return next.value.response;\n",
              "  });\n",
              "}\n",
              "\n",
              "/**\n",
              " * Generator function which is called between each async step of the upload\n",
              " * process.\n",
              " * @param {string} inputId Element ID of the input file picker element.\n",
              " * @param {string} outputId Element ID of the output display.\n",
              " * @return {!Iterable<!Object>} Iterable of next steps.\n",
              " */\n",
              "function* uploadFilesStep(inputId, outputId) {\n",
              "  const inputElement = document.getElementById(inputId);\n",
              "  inputElement.disabled = false;\n",
              "\n",
              "  const outputElement = document.getElementById(outputId);\n",
              "  outputElement.innerHTML = '';\n",
              "\n",
              "  const pickedPromise = new Promise((resolve) => {\n",
              "    inputElement.addEventListener('change', (e) => {\n",
              "      resolve(e.target.files);\n",
              "    });\n",
              "  });\n",
              "\n",
              "  const cancel = document.createElement('button');\n",
              "  inputElement.parentElement.appendChild(cancel);\n",
              "  cancel.textContent = 'Cancel upload';\n",
              "  const cancelPromise = new Promise((resolve) => {\n",
              "    cancel.onclick = () => {\n",
              "      resolve(null);\n",
              "    };\n",
              "  });\n",
              "\n",
              "  // Wait for the user to pick the files.\n",
              "  const files = yield {\n",
              "    promise: Promise.race([pickedPromise, cancelPromise]),\n",
              "    response: {\n",
              "      action: 'starting',\n",
              "    }\n",
              "  };\n",
              "\n",
              "  cancel.remove();\n",
              "\n",
              "  // Disable the input element since further picks are not allowed.\n",
              "  inputElement.disabled = true;\n",
              "\n",
              "  if (!files) {\n",
              "    return {\n",
              "      response: {\n",
              "        action: 'complete',\n",
              "      }\n",
              "    };\n",
              "  }\n",
              "\n",
              "  for (const file of files) {\n",
              "    const li = document.createElement('li');\n",
              "    li.append(span(file.name, {fontWeight: 'bold'}));\n",
              "    li.append(span(\n",
              "        `(${file.type || 'n/a'}) - ${file.size} bytes, ` +\n",
              "        `last modified: ${\n",
              "            file.lastModifiedDate ? file.lastModifiedDate.toLocaleDateString() :\n",
              "                                    'n/a'} - `));\n",
              "    const percent = span('0% done');\n",
              "    li.appendChild(percent);\n",
              "\n",
              "    outputElement.appendChild(li);\n",
              "\n",
              "    const fileDataPromise = new Promise((resolve) => {\n",
              "      const reader = new FileReader();\n",
              "      reader.onload = (e) => {\n",
              "        resolve(e.target.result);\n",
              "      };\n",
              "      reader.readAsArrayBuffer(file);\n",
              "    });\n",
              "    // Wait for the data to be ready.\n",
              "    let fileData = yield {\n",
              "      promise: fileDataPromise,\n",
              "      response: {\n",
              "        action: 'continue',\n",
              "      }\n",
              "    };\n",
              "\n",
              "    // Use a chunked sending to avoid message size limits. See b/62115660.\n",
              "    let position = 0;\n",
              "    do {\n",
              "      const length = Math.min(fileData.byteLength - position, MAX_PAYLOAD_SIZE);\n",
              "      const chunk = new Uint8Array(fileData, position, length);\n",
              "      position += length;\n",
              "\n",
              "      const base64 = btoa(String.fromCharCode.apply(null, chunk));\n",
              "      yield {\n",
              "        response: {\n",
              "          action: 'append',\n",
              "          file: file.name,\n",
              "          data: base64,\n",
              "        },\n",
              "      };\n",
              "\n",
              "      let percentDone = fileData.byteLength === 0 ?\n",
              "          100 :\n",
              "          Math.round((position / fileData.byteLength) * 100);\n",
              "      percent.textContent = `${percentDone}% done`;\n",
              "\n",
              "    } while (position < fileData.byteLength);\n",
              "  }\n",
              "\n",
              "  // All done.\n",
              "  yield {\n",
              "    response: {\n",
              "      action: 'complete',\n",
              "    }\n",
              "  };\n",
              "}\n",
              "\n",
              "scope.google = scope.google || {};\n",
              "scope.google.colab = scope.google.colab || {};\n",
              "scope.google.colab._files = {\n",
              "  _uploadFiles,\n",
              "  _uploadFilesContinue,\n",
              "};\n",
              "})(self);\n",
              "</script> "
            ]
          },
          "metadata": {}
        },
        {
          "output_type": "stream",
          "name": "stdout",
          "text": [
            "Saving meet_or_beat.csv to meet_or_beat.csv\n"
          ]
        }
      ],
      "source": [
        "from google.colab import files\n",
        "uploaded = files.upload()"
      ]
    },
    {
      "cell_type": "code",
      "execution_count": 5,
      "id": "322048df",
      "metadata": {
        "id": "322048df"
      },
      "outputs": [],
      "source": [
        "df = pd.read_csv('meet_or_beat.csv')"
      ]
    },
    {
      "cell_type": "code",
      "source": [
        "df"
      ],
      "metadata": {
        "colab": {
          "base_uri": "https://localhost:8080/",
          "height": 424
        },
        "id": "IcF_IKKffuiw",
        "outputId": "f19345f5-a173-483a-a88f-3163a30759f0"
      },
      "id": "IcF_IKKffuiw",
      "execution_count": 6,
      "outputs": [
        {
          "output_type": "execute_result",
          "data": {
            "text/plain": [
              "        EPS  forecasted_eps  noOfEsts  after_total_returns  \\\n",
              "0      2.01            1.67      11.0             0.051444   \n",
              "1      0.17            0.19       6.0             0.112955   \n",
              "2     -0.07            0.14       4.0             0.077167   \n",
              "3      0.48            0.51       8.0            -0.006130   \n",
              "4     -0.24           -0.27       9.0             0.089762   \n",
              "...     ...             ...       ...                  ...   \n",
              "71963  0.31            0.30       4.0             0.006035   \n",
              "71964 -0.65           -0.66       3.0             0.179327   \n",
              "71965  0.27            0.28       3.0             0.059002   \n",
              "71966  0.11            0.10       4.0            -0.035755   \n",
              "71967 -0.12           -0.12       1.0            -0.196751   \n",
              "\n",
              "       before_total_returns  \n",
              "0                  0.018585  \n",
              "1                 -0.000510  \n",
              "2                 -0.046104  \n",
              "3                 -0.004899  \n",
              "4                 -0.025466  \n",
              "...                     ...  \n",
              "71963              0.016854  \n",
              "71964             -0.039052  \n",
              "71965              0.141599  \n",
              "71966              0.026346  \n",
              "71967              0.337778  \n",
              "\n",
              "[71968 rows x 5 columns]"
            ],
            "text/html": [
              "\n",
              "  <div id=\"df-8d7e7a31-72ca-4e33-a72a-e840b72cba81\">\n",
              "    <div class=\"colab-df-container\">\n",
              "      <div>\n",
              "<style scoped>\n",
              "    .dataframe tbody tr th:only-of-type {\n",
              "        vertical-align: middle;\n",
              "    }\n",
              "\n",
              "    .dataframe tbody tr th {\n",
              "        vertical-align: top;\n",
              "    }\n",
              "\n",
              "    .dataframe thead th {\n",
              "        text-align: right;\n",
              "    }\n",
              "</style>\n",
              "<table border=\"1\" class=\"dataframe\">\n",
              "  <thead>\n",
              "    <tr style=\"text-align: right;\">\n",
              "      <th></th>\n",
              "      <th>EPS</th>\n",
              "      <th>forecasted_eps</th>\n",
              "      <th>noOfEsts</th>\n",
              "      <th>after_total_returns</th>\n",
              "      <th>before_total_returns</th>\n",
              "    </tr>\n",
              "  </thead>\n",
              "  <tbody>\n",
              "    <tr>\n",
              "      <th>0</th>\n",
              "      <td>2.01</td>\n",
              "      <td>1.67</td>\n",
              "      <td>11.0</td>\n",
              "      <td>0.051444</td>\n",
              "      <td>0.018585</td>\n",
              "    </tr>\n",
              "    <tr>\n",
              "      <th>1</th>\n",
              "      <td>0.17</td>\n",
              "      <td>0.19</td>\n",
              "      <td>6.0</td>\n",
              "      <td>0.112955</td>\n",
              "      <td>-0.000510</td>\n",
              "    </tr>\n",
              "    <tr>\n",
              "      <th>2</th>\n",
              "      <td>-0.07</td>\n",
              "      <td>0.14</td>\n",
              "      <td>4.0</td>\n",
              "      <td>0.077167</td>\n",
              "      <td>-0.046104</td>\n",
              "    </tr>\n",
              "    <tr>\n",
              "      <th>3</th>\n",
              "      <td>0.48</td>\n",
              "      <td>0.51</td>\n",
              "      <td>8.0</td>\n",
              "      <td>-0.006130</td>\n",
              "      <td>-0.004899</td>\n",
              "    </tr>\n",
              "    <tr>\n",
              "      <th>4</th>\n",
              "      <td>-0.24</td>\n",
              "      <td>-0.27</td>\n",
              "      <td>9.0</td>\n",
              "      <td>0.089762</td>\n",
              "      <td>-0.025466</td>\n",
              "    </tr>\n",
              "    <tr>\n",
              "      <th>...</th>\n",
              "      <td>...</td>\n",
              "      <td>...</td>\n",
              "      <td>...</td>\n",
              "      <td>...</td>\n",
              "      <td>...</td>\n",
              "    </tr>\n",
              "    <tr>\n",
              "      <th>71963</th>\n",
              "      <td>0.31</td>\n",
              "      <td>0.30</td>\n",
              "      <td>4.0</td>\n",
              "      <td>0.006035</td>\n",
              "      <td>0.016854</td>\n",
              "    </tr>\n",
              "    <tr>\n",
              "      <th>71964</th>\n",
              "      <td>-0.65</td>\n",
              "      <td>-0.66</td>\n",
              "      <td>3.0</td>\n",
              "      <td>0.179327</td>\n",
              "      <td>-0.039052</td>\n",
              "    </tr>\n",
              "    <tr>\n",
              "      <th>71965</th>\n",
              "      <td>0.27</td>\n",
              "      <td>0.28</td>\n",
              "      <td>3.0</td>\n",
              "      <td>0.059002</td>\n",
              "      <td>0.141599</td>\n",
              "    </tr>\n",
              "    <tr>\n",
              "      <th>71966</th>\n",
              "      <td>0.11</td>\n",
              "      <td>0.10</td>\n",
              "      <td>4.0</td>\n",
              "      <td>-0.035755</td>\n",
              "      <td>0.026346</td>\n",
              "    </tr>\n",
              "    <tr>\n",
              "      <th>71967</th>\n",
              "      <td>-0.12</td>\n",
              "      <td>-0.12</td>\n",
              "      <td>1.0</td>\n",
              "      <td>-0.196751</td>\n",
              "      <td>0.337778</td>\n",
              "    </tr>\n",
              "  </tbody>\n",
              "</table>\n",
              "<p>71968 rows × 5 columns</p>\n",
              "</div>\n",
              "      <button class=\"colab-df-convert\" onclick=\"convertToInteractive('df-8d7e7a31-72ca-4e33-a72a-e840b72cba81')\"\n",
              "              title=\"Convert this dataframe to an interactive table.\"\n",
              "              style=\"display:none;\">\n",
              "        \n",
              "  <svg xmlns=\"http://www.w3.org/2000/svg\" height=\"24px\"viewBox=\"0 0 24 24\"\n",
              "       width=\"24px\">\n",
              "    <path d=\"M0 0h24v24H0V0z\" fill=\"none\"/>\n",
              "    <path d=\"M18.56 5.44l.94 2.06.94-2.06 2.06-.94-2.06-.94-.94-2.06-.94 2.06-2.06.94zm-11 1L8.5 8.5l.94-2.06 2.06-.94-2.06-.94L8.5 2.5l-.94 2.06-2.06.94zm10 10l.94 2.06.94-2.06 2.06-.94-2.06-.94-.94-2.06-.94 2.06-2.06.94z\"/><path d=\"M17.41 7.96l-1.37-1.37c-.4-.4-.92-.59-1.43-.59-.52 0-1.04.2-1.43.59L10.3 9.45l-7.72 7.72c-.78.78-.78 2.05 0 2.83L4 21.41c.39.39.9.59 1.41.59.51 0 1.02-.2 1.41-.59l7.78-7.78 2.81-2.81c.8-.78.8-2.07 0-2.86zM5.41 20L4 18.59l7.72-7.72 1.47 1.35L5.41 20z\"/>\n",
              "  </svg>\n",
              "      </button>\n",
              "      \n",
              "  <style>\n",
              "    .colab-df-container {\n",
              "      display:flex;\n",
              "      flex-wrap:wrap;\n",
              "      gap: 12px;\n",
              "    }\n",
              "\n",
              "    .colab-df-convert {\n",
              "      background-color: #E8F0FE;\n",
              "      border: none;\n",
              "      border-radius: 50%;\n",
              "      cursor: pointer;\n",
              "      display: none;\n",
              "      fill: #1967D2;\n",
              "      height: 32px;\n",
              "      padding: 0 0 0 0;\n",
              "      width: 32px;\n",
              "    }\n",
              "\n",
              "    .colab-df-convert:hover {\n",
              "      background-color: #E2EBFA;\n",
              "      box-shadow: 0px 1px 2px rgba(60, 64, 67, 0.3), 0px 1px 3px 1px rgba(60, 64, 67, 0.15);\n",
              "      fill: #174EA6;\n",
              "    }\n",
              "\n",
              "    [theme=dark] .colab-df-convert {\n",
              "      background-color: #3B4455;\n",
              "      fill: #D2E3FC;\n",
              "    }\n",
              "\n",
              "    [theme=dark] .colab-df-convert:hover {\n",
              "      background-color: #434B5C;\n",
              "      box-shadow: 0px 1px 3px 1px rgba(0, 0, 0, 0.15);\n",
              "      filter: drop-shadow(0px 1px 2px rgba(0, 0, 0, 0.3));\n",
              "      fill: #FFFFFF;\n",
              "    }\n",
              "  </style>\n",
              "\n",
              "      <script>\n",
              "        const buttonEl =\n",
              "          document.querySelector('#df-8d7e7a31-72ca-4e33-a72a-e840b72cba81 button.colab-df-convert');\n",
              "        buttonEl.style.display =\n",
              "          google.colab.kernel.accessAllowed ? 'block' : 'none';\n",
              "\n",
              "        async function convertToInteractive(key) {\n",
              "          const element = document.querySelector('#df-8d7e7a31-72ca-4e33-a72a-e840b72cba81');\n",
              "          const dataTable =\n",
              "            await google.colab.kernel.invokeFunction('convertToInteractive',\n",
              "                                                     [key], {});\n",
              "          if (!dataTable) return;\n",
              "\n",
              "          const docLinkHtml = 'Like what you see? Visit the ' +\n",
              "            '<a target=\"_blank\" href=https://colab.research.google.com/notebooks/data_table.ipynb>data table notebook</a>'\n",
              "            + ' to learn more about interactive tables.';\n",
              "          element.innerHTML = '';\n",
              "          dataTable['output_type'] = 'display_data';\n",
              "          await google.colab.output.renderOutput(dataTable, element);\n",
              "          const docLink = document.createElement('div');\n",
              "          docLink.innerHTML = docLinkHtml;\n",
              "          element.appendChild(docLink);\n",
              "        }\n",
              "      </script>\n",
              "    </div>\n",
              "  </div>\n",
              "  "
            ]
          },
          "metadata": {},
          "execution_count": 6
        }
      ]
    },
    {
      "cell_type": "markdown",
      "id": "c8e6b8ab",
      "metadata": {
        "id": "c8e6b8ab"
      },
      "source": [
        "### Preparing the Data"
      ]
    },
    {
      "cell_type": "code",
      "execution_count": 7,
      "id": "7f12a832",
      "metadata": {
        "id": "7f12a832"
      },
      "outputs": [],
      "source": [
        "df['earnings_quartile']= (pd.qcut(df['EPS'], q=5, labels =False))+1"
      ]
    },
    {
      "cell_type": "code",
      "execution_count": 8,
      "id": "5ef6dad0",
      "metadata": {
        "colab": {
          "base_uri": "https://localhost:8080/"
        },
        "id": "5ef6dad0",
        "outputId": "6adf7739-267c-4562-8e5f-3267e8407e20"
      },
      "outputs": [
        {
          "output_type": "execute_result",
          "data": {
            "text/plain": [
              "2    14676\n",
              "1    14555\n",
              "5    14268\n",
              "4    14251\n",
              "3    14218\n",
              "Name: earnings_quartile, dtype: int64"
            ]
          },
          "metadata": {},
          "execution_count": 8
        }
      ],
      "source": [
        "df['earnings_quartile'].value_counts()"
      ]
    },
    {
      "cell_type": "code",
      "source": [
        "y_quartile= df['earnings_quartile']"
      ],
      "metadata": {
        "id": "zNOLvKXggYFs"
      },
      "id": "zNOLvKXggYFs",
      "execution_count": 9,
      "outputs": []
    },
    {
      "cell_type": "code",
      "source": [
        "number_classes = len(y_quartile.unique())"
      ],
      "metadata": {
        "id": "h29x10lUla-A"
      },
      "id": "h29x10lUla-A",
      "execution_count": 10,
      "outputs": []
    },
    {
      "cell_type": "code",
      "execution_count": 11,
      "id": "09248537",
      "metadata": {
        "colab": {
          "base_uri": "https://localhost:8080/"
        },
        "id": "09248537",
        "outputId": "3aec1da4-8c07-42d4-aff6-fe61e9031fc2"
      },
      "outputs": [
        {
          "output_type": "execute_result",
          "data": {
            "text/plain": [
              "array([4, 2, 1, ..., 2, 1, 0])"
            ]
          },
          "metadata": {},
          "execution_count": 11
        }
      ],
      "source": [
        "from sklearn.preprocessing import LabelEncoder\n",
        "\n",
        "encoder = LabelEncoder()\n",
        "encoder.fit(y_quartile)\n",
        "encoded_y = encoder.transform(y_quartile)\n",
        "encoded_y"
      ]
    },
    {
      "cell_type": "code",
      "source": [
        "from keras.utils.np_utils import to_categorical\n",
        "\n",
        "y_categorical = to_categorical(encoded_y, num_classes=number_classes)"
      ],
      "metadata": {
        "id": "gmo36xrcgZrj"
      },
      "id": "gmo36xrcgZrj",
      "execution_count": 30,
      "outputs": []
    },
    {
      "cell_type": "code",
      "source": [
        "X=df[['forecasted_eps','before_total_returns','noOfEsts']]"
      ],
      "metadata": {
        "id": "TujjX13ngnue"
      },
      "id": "TujjX13ngnue",
      "execution_count": 31,
      "outputs": []
    },
    {
      "cell_type": "markdown",
      "id": "a1c124ca",
      "metadata": {
        "id": "a1c124ca"
      },
      "source": [
        "### Building the Model"
      ]
    },
    {
      "cell_type": "code",
      "execution_count": 32,
      "id": "530b8154",
      "metadata": {
        "id": "530b8154"
      },
      "outputs": [],
      "source": [
        "from sklearn.model_selection import train_test_split\n",
        "\n",
        "X_train, X_test, y_train, y_test = train_test_split(X, y_categorical, random_state=1)"
      ]
    },
    {
      "cell_type": "code",
      "execution_count": 33,
      "id": "8c9e5e76",
      "metadata": {
        "colab": {
          "base_uri": "https://localhost:8080/"
        },
        "id": "8c9e5e76",
        "outputId": "aa6dc1b5-51c1-4703-9eda-56c5a666c182"
      },
      "outputs": [
        {
          "output_type": "execute_result",
          "data": {
            "text/plain": [
              "array([[0., 0., 0., 0., 1.],\n",
              "       [0., 0., 0., 1., 0.],\n",
              "       [0., 0., 0., 0., 1.],\n",
              "       ...,\n",
              "       [0., 0., 1., 0., 0.],\n",
              "       [0., 0., 1., 0., 0.],\n",
              "       [0., 0., 0., 1., 0.]], dtype=float32)"
            ]
          },
          "metadata": {},
          "execution_count": 33
        }
      ],
      "source": [
        "y_train"
      ]
    },
    {
      "cell_type": "code",
      "execution_count": 34,
      "id": "38dfa571",
      "metadata": {
        "colab": {
          "base_uri": "https://localhost:8080/"
        },
        "id": "38dfa571",
        "outputId": "41101fd2-35d3-4942-eead-19cd9917c88b"
      },
      "outputs": [
        {
          "output_type": "execute_result",
          "data": {
            "text/plain": [
              "3"
            ]
          },
          "metadata": {},
          "execution_count": 34
        }
      ],
      "source": [
        "number_of_predictors = len(X.columns)\n",
        "number_of_predictors"
      ]
    },
    {
      "cell_type": "code",
      "source": [
        "from keras.layers import Dropout\n",
        "from keras.regularizers import l1,l2"
      ],
      "metadata": {
        "id": "ZK4NgQvVhNI0"
      },
      "id": "ZK4NgQvVhNI0",
      "execution_count": 35,
      "outputs": []
    },
    {
      "cell_type": "code",
      "source": [
        "model = Sequential()\n",
        "\n",
        "model.add(\n",
        "    Dense(10, input_dim = number_of_predictors, activation='relu')\n",
        ")\n",
        "model.add(\n",
        "    Dropout(.2, input_shape=(10,))\n",
        ")\n",
        "model.add(\n",
        "    Dense(number_classes, activation = 'relu', kernel_regularizer=l2(0.01), bias_regularizer=l2(0.01))\n",
        ")\n",
        "model.add(\n",
        "    Dense(number_classes, activation='softmax')\n",
        ")"
      ],
      "metadata": {
        "id": "ScwLDSzkhidH"
      },
      "id": "ScwLDSzkhidH",
      "execution_count": 36,
      "outputs": []
    },
    {
      "cell_type": "code",
      "source": [
        "model.compile(loss='categorical_crossentropy', optimizer='adam', metrics=['categorical_accuracy'])"
      ],
      "metadata": {
        "id": "Qda69XNwikle"
      },
      "id": "Qda69XNwikle",
      "execution_count": 40,
      "outputs": []
    },
    {
      "cell_type": "code",
      "source": [
        "model.summary()"
      ],
      "metadata": {
        "colab": {
          "base_uri": "https://localhost:8080/"
        },
        "id": "T3kFRQrrjI10",
        "outputId": "ef8ba60a-aaa2-47b7-98a0-37b00afef507"
      },
      "id": "T3kFRQrrjI10",
      "execution_count": 41,
      "outputs": [
        {
          "output_type": "stream",
          "name": "stdout",
          "text": [
            "Model: \"sequential_1\"\n",
            "_________________________________________________________________\n",
            " Layer (type)                Output Shape              Param #   \n",
            "=================================================================\n",
            " dense_3 (Dense)             (None, 10)                40        \n",
            "                                                                 \n",
            " dropout_1 (Dropout)         (None, 10)                0         \n",
            "                                                                 \n",
            " dense_4 (Dense)             (None, 5)                 55        \n",
            "                                                                 \n",
            " dense_5 (Dense)             (None, 5)                 30        \n",
            "                                                                 \n",
            "=================================================================\n",
            "Total params: 125\n",
            "Trainable params: 125\n",
            "Non-trainable params: 0\n",
            "_________________________________________________________________\n"
          ]
        }
      ]
    },
    {
      "cell_type": "code",
      "source": [
        "model.fit(X_train, y_train, epochs=50, batch_size=1000, validation_split=0.2, shuffle=True)"
      ],
      "metadata": {
        "colab": {
          "base_uri": "https://localhost:8080/"
        },
        "id": "BRQRR3EWjMBu",
        "outputId": "fb2f1948-3434-4904-9fad-4def99cd11d3"
      },
      "id": "BRQRR3EWjMBu",
      "execution_count": 42,
      "outputs": [
        {
          "output_type": "stream",
          "name": "stdout",
          "text": [
            "Epoch 1/50\n",
            "44/44 [==============================] - 1s 8ms/step - loss: 2.0390 - categorical_accuracy: 0.2566 - val_loss: 1.8421 - val_categorical_accuracy: 0.3386\n",
            "Epoch 2/50\n",
            "44/44 [==============================] - 0s 3ms/step - loss: 1.8226 - categorical_accuracy: 0.2719 - val_loss: 1.7255 - val_categorical_accuracy: 0.3887\n",
            "Epoch 3/50\n",
            "44/44 [==============================] - 0s 3ms/step - loss: 1.7212 - categorical_accuracy: 0.2773 - val_loss: 1.6639 - val_categorical_accuracy: 0.3397\n",
            "Epoch 4/50\n",
            "44/44 [==============================] - 0s 4ms/step - loss: 1.6695 - categorical_accuracy: 0.2656 - val_loss: 1.6260 - val_categorical_accuracy: 0.2829\n",
            "Epoch 5/50\n",
            "44/44 [==============================] - 0s 3ms/step - loss: 1.6273 - categorical_accuracy: 0.2497 - val_loss: 1.5929 - val_categorical_accuracy: 0.2577\n",
            "Epoch 6/50\n",
            "44/44 [==============================] - 0s 3ms/step - loss: 1.5911 - categorical_accuracy: 0.2531 - val_loss: 1.5543 - val_categorical_accuracy: 0.2590\n",
            "Epoch 7/50\n",
            "44/44 [==============================] - 0s 4ms/step - loss: 1.5475 - categorical_accuracy: 0.2792 - val_loss: 1.4982 - val_categorical_accuracy: 0.2860\n",
            "Epoch 8/50\n",
            "44/44 [==============================] - 0s 4ms/step - loss: 1.4838 - categorical_accuracy: 0.3014 - val_loss: 1.4061 - val_categorical_accuracy: 0.3430\n",
            "Epoch 9/50\n",
            "44/44 [==============================] - 0s 4ms/step - loss: 1.4194 - categorical_accuracy: 0.3556 - val_loss: 1.3495 - val_categorical_accuracy: 0.4416\n",
            "Epoch 10/50\n",
            "44/44 [==============================] - 0s 3ms/step - loss: 1.3736 - categorical_accuracy: 0.4031 - val_loss: 1.3016 - val_categorical_accuracy: 0.5008\n",
            "Epoch 11/50\n",
            "44/44 [==============================] - 0s 4ms/step - loss: 1.3342 - categorical_accuracy: 0.4451 - val_loss: 1.2613 - val_categorical_accuracy: 0.5613\n",
            "Epoch 12/50\n",
            "44/44 [==============================] - 0s 4ms/step - loss: 1.3044 - categorical_accuracy: 0.4719 - val_loss: 1.2301 - val_categorical_accuracy: 0.5853\n",
            "Epoch 13/50\n",
            "44/44 [==============================] - 0s 3ms/step - loss: 1.2754 - categorical_accuracy: 0.4904 - val_loss: 1.2005 - val_categorical_accuracy: 0.6034\n",
            "Epoch 14/50\n",
            "44/44 [==============================] - 0s 4ms/step - loss: 1.2472 - categorical_accuracy: 0.5088 - val_loss: 1.1732 - val_categorical_accuracy: 0.6157\n",
            "Epoch 15/50\n",
            "44/44 [==============================] - 0s 4ms/step - loss: 1.2246 - categorical_accuracy: 0.5249 - val_loss: 1.1473 - val_categorical_accuracy: 0.6300\n",
            "Epoch 16/50\n",
            "44/44 [==============================] - 0s 4ms/step - loss: 1.2013 - categorical_accuracy: 0.5380 - val_loss: 1.1249 - val_categorical_accuracy: 0.6653\n",
            "Epoch 17/50\n",
            "44/44 [==============================] - 0s 4ms/step - loss: 1.1801 - categorical_accuracy: 0.5575 - val_loss: 1.0997 - val_categorical_accuracy: 0.6867\n",
            "Epoch 18/50\n",
            "44/44 [==============================] - 0s 3ms/step - loss: 1.1592 - categorical_accuracy: 0.5760 - val_loss: 1.0776 - val_categorical_accuracy: 0.7133\n",
            "Epoch 19/50\n",
            "44/44 [==============================] - 0s 3ms/step - loss: 1.1382 - categorical_accuracy: 0.5964 - val_loss: 1.0556 - val_categorical_accuracy: 0.7390\n",
            "Epoch 20/50\n",
            "44/44 [==============================] - 0s 4ms/step - loss: 1.1199 - categorical_accuracy: 0.6104 - val_loss: 1.0340 - val_categorical_accuracy: 0.7578\n",
            "Epoch 21/50\n",
            "44/44 [==============================] - 0s 3ms/step - loss: 1.0988 - categorical_accuracy: 0.6366 - val_loss: 1.0135 - val_categorical_accuracy: 0.7794\n",
            "Epoch 22/50\n",
            "44/44 [==============================] - 0s 3ms/step - loss: 1.0755 - categorical_accuracy: 0.6601 - val_loss: 0.9951 - val_categorical_accuracy: 0.7950\n",
            "Epoch 23/50\n",
            "44/44 [==============================] - 0s 3ms/step - loss: 1.0578 - categorical_accuracy: 0.6713 - val_loss: 0.9752 - val_categorical_accuracy: 0.8046\n",
            "Epoch 24/50\n",
            "44/44 [==============================] - 0s 4ms/step - loss: 1.0382 - categorical_accuracy: 0.6849 - val_loss: 0.9567 - val_categorical_accuracy: 0.8110\n",
            "Epoch 25/50\n",
            "44/44 [==============================] - 0s 3ms/step - loss: 1.0198 - categorical_accuracy: 0.6948 - val_loss: 0.9381 - val_categorical_accuracy: 0.8157\n",
            "Epoch 26/50\n",
            "44/44 [==============================] - 0s 4ms/step - loss: 1.0064 - categorical_accuracy: 0.7023 - val_loss: 0.9218 - val_categorical_accuracy: 0.8174\n",
            "Epoch 27/50\n",
            "44/44 [==============================] - 0s 4ms/step - loss: 0.9907 - categorical_accuracy: 0.7063 - val_loss: 0.9067 - val_categorical_accuracy: 0.8279\n",
            "Epoch 28/50\n",
            "44/44 [==============================] - 0s 3ms/step - loss: 0.9769 - categorical_accuracy: 0.7144 - val_loss: 0.8909 - val_categorical_accuracy: 0.8260\n",
            "Epoch 29/50\n",
            "44/44 [==============================] - 0s 3ms/step - loss: 0.9618 - categorical_accuracy: 0.7188 - val_loss: 0.8760 - val_categorical_accuracy: 0.8273\n",
            "Epoch 30/50\n",
            "44/44 [==============================] - 0s 3ms/step - loss: 0.9488 - categorical_accuracy: 0.7248 - val_loss: 0.8620 - val_categorical_accuracy: 0.8307\n",
            "Epoch 31/50\n",
            "44/44 [==============================] - 0s 3ms/step - loss: 0.9347 - categorical_accuracy: 0.7272 - val_loss: 0.8491 - val_categorical_accuracy: 0.8302\n",
            "Epoch 32/50\n",
            "44/44 [==============================] - 0s 3ms/step - loss: 0.9242 - categorical_accuracy: 0.7284 - val_loss: 0.8362 - val_categorical_accuracy: 0.8300\n",
            "Epoch 33/50\n",
            "44/44 [==============================] - 0s 4ms/step - loss: 0.9096 - categorical_accuracy: 0.7338 - val_loss: 0.8244 - val_categorical_accuracy: 0.8321\n",
            "Epoch 34/50\n",
            "44/44 [==============================] - 0s 3ms/step - loss: 0.8983 - categorical_accuracy: 0.7366 - val_loss: 0.8128 - val_categorical_accuracy: 0.8329\n",
            "Epoch 35/50\n",
            "44/44 [==============================] - 0s 3ms/step - loss: 0.8921 - categorical_accuracy: 0.7350 - val_loss: 0.8027 - val_categorical_accuracy: 0.8326\n",
            "Epoch 36/50\n",
            "44/44 [==============================] - 0s 3ms/step - loss: 0.8815 - categorical_accuracy: 0.7384 - val_loss: 0.7922 - val_categorical_accuracy: 0.8330\n",
            "Epoch 37/50\n",
            "44/44 [==============================] - 0s 3ms/step - loss: 0.8741 - categorical_accuracy: 0.7409 - val_loss: 0.7822 - val_categorical_accuracy: 0.8331\n",
            "Epoch 38/50\n",
            "44/44 [==============================] - 0s 3ms/step - loss: 0.8641 - categorical_accuracy: 0.7455 - val_loss: 0.7722 - val_categorical_accuracy: 0.8348\n",
            "Epoch 39/50\n",
            "44/44 [==============================] - 0s 3ms/step - loss: 0.8567 - categorical_accuracy: 0.7450 - val_loss: 0.7647 - val_categorical_accuracy: 0.8345\n",
            "Epoch 40/50\n",
            "44/44 [==============================] - 0s 4ms/step - loss: 0.8426 - categorical_accuracy: 0.7488 - val_loss: 0.7564 - val_categorical_accuracy: 0.8346\n",
            "Epoch 41/50\n",
            "44/44 [==============================] - 0s 3ms/step - loss: 0.8408 - categorical_accuracy: 0.7467 - val_loss: 0.7469 - val_categorical_accuracy: 0.8340\n",
            "Epoch 42/50\n",
            "44/44 [==============================] - 0s 4ms/step - loss: 0.8316 - categorical_accuracy: 0.7501 - val_loss: 0.7382 - val_categorical_accuracy: 0.8351\n",
            "Epoch 43/50\n",
            "44/44 [==============================] - 0s 4ms/step - loss: 0.8231 - categorical_accuracy: 0.7524 - val_loss: 0.7317 - val_categorical_accuracy: 0.8361\n",
            "Epoch 44/50\n",
            "44/44 [==============================] - 0s 3ms/step - loss: 0.8149 - categorical_accuracy: 0.7536 - val_loss: 0.7243 - val_categorical_accuracy: 0.8373\n",
            "Epoch 45/50\n",
            "44/44 [==============================] - 0s 4ms/step - loss: 0.8085 - categorical_accuracy: 0.7551 - val_loss: 0.7174 - val_categorical_accuracy: 0.8348\n",
            "Epoch 46/50\n",
            "44/44 [==============================] - 0s 3ms/step - loss: 0.8030 - categorical_accuracy: 0.7557 - val_loss: 0.7109 - val_categorical_accuracy: 0.8387\n",
            "Epoch 47/50\n",
            "44/44 [==============================] - 0s 4ms/step - loss: 0.7972 - categorical_accuracy: 0.7585 - val_loss: 0.7041 - val_categorical_accuracy: 0.8380\n",
            "Epoch 48/50\n",
            "44/44 [==============================] - 0s 4ms/step - loss: 0.7927 - categorical_accuracy: 0.7593 - val_loss: 0.6978 - val_categorical_accuracy: 0.8369\n",
            "Epoch 49/50\n",
            "44/44 [==============================] - 0s 4ms/step - loss: 0.7884 - categorical_accuracy: 0.7577 - val_loss: 0.6935 - val_categorical_accuracy: 0.8373\n",
            "Epoch 50/50\n",
            "44/44 [==============================] - 0s 3ms/step - loss: 0.7823 - categorical_accuracy: 0.7616 - val_loss: 0.6870 - val_categorical_accuracy: 0.8376\n"
          ]
        },
        {
          "output_type": "execute_result",
          "data": {
            "text/plain": [
              "<keras.callbacks.History at 0x7f2e11e89490>"
            ]
          },
          "metadata": {},
          "execution_count": 42
        }
      ]
    },
    {
      "cell_type": "code",
      "source": [
        "model_history = model.history.history\n",
        "model_history.keys()\n",
        "\n",
        "\n",
        "\n",
        "training_results = pd.DataFrame(index=range(1,51))\n",
        "training_results['training'] = model_history['categorical_accuracy']\n",
        "training_results['validation'] = model_history['val_categorical_accuracy']\n",
        "training_results.plot(title='training vs validation')"
      ],
      "metadata": {
        "id": "kSTQ1-VLjeds",
        "colab": {
          "base_uri": "https://localhost:8080/",
          "height": 299
        },
        "outputId": "91eb77b6-a2ff-4bc7-a837-37b11818b455"
      },
      "id": "kSTQ1-VLjeds",
      "execution_count": 44,
      "outputs": [
        {
          "output_type": "execute_result",
          "data": {
            "text/plain": [
              "<matplotlib.axes._subplots.AxesSubplot at 0x7f2e11dd66d0>"
            ]
          },
          "metadata": {},
          "execution_count": 44
        },
        {
          "output_type": "display_data",
          "data": {
            "text/plain": [
              "<Figure size 432x288 with 1 Axes>"
            ],
            "image/png": "[encoded data removed]"
          },
          "metadata": {
            "needs_background": "light"
          }
        }
      ]
    },
    {
      "cell_type": "code",
      "source": [],
      "metadata": {
        "id": "W3vvaXrblHNr"
      },
      "id": "W3vvaXrblHNr",
      "execution_count": null,
      "outputs": []
    }
  ],
  "metadata": {
    "kernelspec": {
      "display_name": "Python 3 (ipykernel)",
      "language": "python",
      "name": "python3"
    },
    "language_info": {
      "codemirror_mode": {
        "name": "ipython",
        "version": 3
      },
      "file_extension": ".py",
      "mimetype": "text/x-python",
      "name": "python",
      "nbconvert_exporter": "python",
      "pygments_lexer": "ipython3",
      "version": "3.8.11"
    },
    "colab": {
      "provenance": [],
      "include_colab_link": true
    }
  },
  "nbformat": 4,
  "nbformat_minor": 5
}